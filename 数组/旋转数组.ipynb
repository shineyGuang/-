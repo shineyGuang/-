{
 "cells": [
  {
   "cell_type": "code",
   "execution_count": null,
   "metadata": {},
   "outputs": [],
   "source": [
    "给定一个数组，将数组中的元素向右移动 k 个位置，其中 k 是非负数。"
   ]
  },
  {
   "cell_type": "code",
   "execution_count": null,
   "metadata": {},
   "outputs": [],
   "source": [
    "输入: [1,2,3,4,5,6,7] 和 k = 3\n",
    "输出: [5,6,7,1,2,3,4]\n",
    "解释:\n",
    "向右旋转 1 步: [7,1,2,3,4,5,6]\n",
    "向右旋转 2 步: [6,7,1,2,3,4,5]\n",
    "向右旋转 3 步: [5,6,7,1,2,3,4]"
   ]
  },
  {
   "cell_type": "code",
   "execution_count": null,
   "metadata": {},
   "outputs": [],
   "source": [
    "输入: [-1,-100,3,99] 和 k = 2\n",
    "输出: [3,99,-1,-100]\n",
    "解释: \n",
    "向右旋转 1 步: [99,-1,-100,3]\n",
    "向右旋转 2 步: [3,99,-1,-100]"
   ]
  },
  {
   "cell_type": "code",
   "execution_count": 41,
   "metadata": {},
   "outputs": [
    {
     "name": "stdout",
     "output_type": "stream",
     "text": [
      "[3, 99, -1, -100]\n"
     ]
    }
   ],
   "source": [
    "class Solution:\n",
    "    def rotate(self, nums, k) -> None:\n",
    "        \"\"\"\n",
    "        Do not return anything, modify nums in-place instead.\n",
    "        \"\"\"\n",
    "        for i in range(k):\n",
    "            nums.insert(0,nums.pop())\n",
    "            \n",
    "A = Solution()\n",
    "nums = [1,2,3,4,5,6,7]\n",
    "nums2 = [-1,-100,3,99]\n",
    "k = 2\n",
    "res = A.rotate(nums2,k)\n",
    "print(res)"
   ]
  },
  {
   "cell_type": "code",
   "execution_count": 77,
   "metadata": {},
   "outputs": [
    {
     "name": "stdout",
     "output_type": "stream",
     "text": [
      "[5, 6, 7, 1, 2, 3, 4]\n"
     ]
    }
   ],
   "source": [
    "def rotate(nums,k):\n",
    "    for i in range(k):\n",
    "        nums.insert(0,nums.pop())\n",
    "    \n",
    "    \n",
    "    \n",
    "nums = [1,2,3,4,5,6,7]\n",
    "k = 3\n",
    "s = rotate(nums,k)\n",
    "print(s)"
   ]
  },
  {
   "cell_type": "code",
   "execution_count": null,
   "metadata": {},
   "outputs": [],
   "source": []
  }
 ],
 "metadata": {
  "kernelspec": {
   "display_name": "Python 3",
   "language": "python",
   "name": "python3"
  },
  "language_info": {
   "codemirror_mode": {
    "name": "ipython",
    "version": 3
   },
   "file_extension": ".py",
   "mimetype": "text/x-python",
   "name": "python",
   "nbconvert_exporter": "python",
   "pygments_lexer": "ipython3",
   "version": "3.7.4"
  }
 },
 "nbformat": 4,
 "nbformat_minor": 4
}
