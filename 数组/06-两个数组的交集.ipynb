{
 "cells": [
  {
   "cell_type": "code",
   "execution_count": null,
   "metadata": {},
   "outputs": [],
   "source": [
    "'''\n",
    "给定两个数组，编写一个函数来计算它们的交集。\n",
    "'''"
   ]
  },
  {
   "cell_type": "code",
   "execution_count": 1,
   "metadata": {},
   "outputs": [
    {
     "data": {
      "text/plain": [
       "[2, 2]"
      ]
     },
     "execution_count": 1,
     "metadata": {},
     "output_type": "execute_result"
    }
   ],
   "source": [
    "def intersection(nums1,nums2):\n",
    "    def inner(nums1,nums2):\n",
    "        res = []\n",
    "        hash_dic = {}\n",
    "        for i in nums1:\n",
    "            if not hash_dic.get(i):\n",
    "                hash_dic[i] = 1\n",
    "                continue\n",
    "            hash_dic[i] += 1\n",
    "        for j in nums2:\n",
    "            if not hash_dic.get(j):\n",
    "                continue\n",
    "            hash_dic[j] -= 1\n",
    "            res.append(j)\n",
    "        return res\n",
    "    if len(nums1) < len(nums2):\n",
    "        return inner(nums1,nums2)\n",
    "    return inner(nums2,nums1)\n",
    "\n",
    "nums1 = [1,2,1,2]\n",
    "nums2 = [2,2]\n",
    "\n",
    "intersection(nums1,nums2)"
   ]
  },
  {
   "cell_type": "code",
   "execution_count": null,
   "metadata": {},
   "outputs": [],
   "source": []
  }
 ],
 "metadata": {
  "kernelspec": {
   "display_name": "Python 3",
   "language": "python",
   "name": "python3"
  },
  "language_info": {
   "codemirror_mode": {
    "name": "ipython",
    "version": 3
   },
   "file_extension": ".py",
   "mimetype": "text/x-python",
   "name": "python",
   "nbconvert_exporter": "python",
   "pygments_lexer": "ipython3",
   "version": "3.7.4"
  }
 },
 "nbformat": 4,
 "nbformat_minor": 4
}
