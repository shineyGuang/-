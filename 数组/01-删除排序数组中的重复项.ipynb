{
 "cells": [
  {
   "cell_type": "code",
   "execution_count": null,
   "metadata": {},
   "outputs": [],
   "source": [
    "\"\"\"\n",
    "给定 nums = [0,0,1,1,1,2,2,3,3,4],\n",
    "\n",
    "函数应该返回新的长度 5, 并且原数组 nums 的前五个元素被修改为 0, 1, 2, 3, 4。\n",
    "\n",
    "你不需要考虑数组中超出新长度后面的元素。\n",
    "\"\"\"\n",
    "\n",
    "# 双指针法\n",
    "# 让 p=0 q=1，如果nums[p] != nums[q]，那么就让p+1位置上的数等于nums[q],p是慢指针，q是快指针"
   ]
  },
  {
   "cell_type": "code",
   "execution_count": 4,
   "metadata": {},
   "outputs": [
    {
     "name": "stdout",
     "output_type": "stream",
     "text": [
      "5\n"
     ]
    }
   ],
   "source": [
    "# 代码实现：\n",
    "class Solution:\n",
    "    def removeDuplicates(self, nums):\n",
    "        if not nums or len(nums) == 0:\n",
    "            return 0\n",
    "        \n",
    "        # 指定双指针\n",
    "        p = 0\n",
    "        q = 1\n",
    "        \n",
    "        while q < len(nums):\n",
    "            if nums[p] != nums[q]:\n",
    "                nums[p + 1] = nums[q]\n",
    "                p += 1\n",
    "            q += 1\n",
    "        return p + 1\n",
    "    \n",
    "A = Solution()\n",
    "nums = [0,0,1,1,1,2,2,3,3,4]\n",
    "res = A.removeDuplicates(nums)\n",
    "print(res)"
   ]
  },
  {
   "cell_type": "code",
   "execution_count": null,
   "metadata": {},
   "outputs": [],
   "source": [
    "class Solution:\n",
    "    def removeDuplicates(self,nums):\n",
    "        if not nums or len(nums) == 0:\n",
    "            return 0\n",
    "        p = 0\n",
    "        q = 1\n",
    "        while q < len(nums):\n",
    "            if nums[p] != nums[q]:\n",
    "                nums[p + 1] = nums[q]\n",
    "                p += 1\n",
    "            q += 1\n",
    "        "
   ]
  }
 ],
 "metadata": {
  "kernelspec": {
   "display_name": "Python 3",
   "language": "python",
   "name": "python3"
  },
  "language_info": {
   "codemirror_mode": {
    "name": "ipython",
    "version": 3
   },
   "file_extension": ".py",
   "mimetype": "text/x-python",
   "name": "python",
   "nbconvert_exporter": "python",
   "pygments_lexer": "ipython3",
   "version": "3.7.4"
  }
 },
 "nbformat": 4,
 "nbformat_minor": 4
}
